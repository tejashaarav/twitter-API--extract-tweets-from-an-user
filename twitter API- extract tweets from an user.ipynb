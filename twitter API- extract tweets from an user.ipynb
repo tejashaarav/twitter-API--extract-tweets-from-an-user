{
 "cells": [
  {
   "cell_type": "code",
   "execution_count": 3,
   "id": "4eb4ac17",
   "metadata": {},
   "outputs": [],
   "source": [
    "import tweepy \n",
    "import pandas as pd\n",
    "import numpy as np"
   ]
  },
  {
   "cell_type": "code",
   "execution_count": 4,
   "id": "c3d912d4",
   "metadata": {},
   "outputs": [],
   "source": [
    "auth = tweepy.OAuthHandler(\"***********************************\",\"**********************************************\")"
   ]
  },
  {
   "cell_type": "code",
   "execution_count": 5,
   "id": "f761ff4d",
   "metadata": {},
   "outputs": [],
   "source": [
    "auth.set_access_token(\"***************************,\"****************************************************\")"
   ]
  },
  {
   "cell_type": "code",
   "execution_count": 6,
   "id": "34adf9dd",
   "metadata": {},
   "outputs": [],
   "source": [
    "api = tweepy.API(auth)"
   ]
  },
  {
   "cell_type": "code",
   "execution_count": 27,
   "id": "b916c940",
   "metadata": {},
   "outputs": [],
   "source": [
    "user = 'theweeknd'\n",
    "\n",
    "\n",
    "\n",
    "tweets = tweepy.Cursor(api.user_timeline, screen_name=user, count=200, tweet_mode='extended').items(10000)"
   ]
  },
  {
   "cell_type": "code",
   "execution_count": 28,
   "id": "130cb92b",
   "metadata": {},
   "outputs": [],
   "source": [
    "columns = ['User', 'Tweet']\n",
    "data = []"
   ]
  },
  {
   "cell_type": "code",
   "execution_count": 29,
   "id": "ef1c82cc",
   "metadata": {},
   "outputs": [],
   "source": [
    "for tweet in tweets:\n",
    "    data.append([tweet.user.screen_name, tweet.full_text])"
   ]
  },
  {
   "cell_type": "code",
   "execution_count": 30,
   "id": "4f52e5ee",
   "metadata": {},
   "outputs": [],
   "source": [
    "df = pd.DataFrame(data, columns=columns)"
   ]
  },
  {
   "cell_type": "code",
   "execution_count": 31,
   "id": "c94e4966",
   "metadata": {},
   "outputs": [
    {
     "name": "stdout",
     "output_type": "stream",
     "text": [
      "          User                                              Tweet\n",
      "0    theweeknd  Thank you Matt !! Let’s make Orion Hughes and ...\n",
      "1    theweeknd       RT @TheSimpsons: 😱 😱 https://t.co/legKo01oUl\n",
      "2    theweeknd  RT @TheSimpsons: Keep it real, little groms. h...\n",
      "3    theweeknd  RT @TheSimpsons: He's kind of big deal. The We...\n",
      "4    theweeknd  RT @ComplexMusic: 💛 @theweeknd x @TheSimpsons ...\n",
      "..         ...                                                ...\n",
      "995  theweeknd  🕚🕚🕚🕚 : https://t.co/89YAhPTd9g https://t.co/77...\n",
      "996  theweeknd  europe : 24 hrs left to preorder After Hours f...\n",
      "997  theweeknd                    fixed:  https://t.co/A28gWEwYFd\n",
      "998  theweeknd                    🕚🕚🕚🕚🕚🕚🕚 https://t.co/lLpEEI9Bdg\n",
      "999  theweeknd  RT @ChartsTheWeeknd: .@theweeknd is currently ...\n",
      "\n",
      "[1000 rows x 2 columns]\n"
     ]
    }
   ],
   "source": [
    "\n",
    "print(df)"
   ]
  },
  {
   "cell_type": "code",
   "execution_count": null,
   "id": "4171af48",
   "metadata": {},
   "outputs": [],
   "source": [
    "df.to_excel('tweets.xlsx')"
   ]
  }
 ],
 "metadata": {
  "kernelspec": {
   "display_name": "Python 3",
   "language": "python",
   "name": "python3"
  },
  "language_info": {
   "codemirror_mode": {
    "name": "ipython",
    "version": 3
   },
   "file_extension": ".py",
   "mimetype": "text/x-python",
   "name": "python",
   "nbconvert_exporter": "python",
   "pygments_lexer": "ipython3",
   "version": "3.8.8"
  }
 },
 "nbformat": 4,
 "nbformat_minor": 5
}
